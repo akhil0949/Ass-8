{
 "cells": [
  {
   "cell_type": "code",
   "execution_count": null,
   "id": "f72b1834",
   "metadata": {},
   "outputs": [],
   "source": [
    "1. Write a Python program to convert kilometers to miles?\n",
    "Ans)\n",
    "mile = 0.621371\n",
    "km = int(input(\"enter kilo meter\"))\n",
    "print(\"km to miles is\",km * mile)"
   ]
  },
  {
   "cell_type": "code",
   "execution_count": null,
   "id": "7e91ff0d",
   "metadata": {},
   "outputs": [],
   "source": [
    "2. Write a Python program to convert Celsius to Fahrenheit?\n",
    "Ans)\n",
    "c = int(input(\"enter celsius\"))\n",
    "Fahrenheit =  (c × 9/5) + 32)\n",
    "print(\"celsius to Fahrenheit is\",Fahrenheit)"
   ]
  },
  {
   "cell_type": "code",
   "execution_count": null,
   "id": "718a9a88",
   "metadata": {},
   "outputs": [],
   "source": [
    "3. Write a Python program to display calendar?\n",
    "Ans)\n",
    "import calendar\n",
    "\n",
    "yy = 2021  # year\n",
    "mm = 12    # month\n",
    "\n",
    "# To take month and year input from the user\n",
    "yy = int(input(\"Enter year: \"))\n",
    "mm = int(input(\"Enter month: \"))\n",
    "\n",
    "# display the calendar\n",
    "print(calendar.month(yy, mm))"
   ]
  },
  {
   "cell_type": "code",
   "execution_count": null,
   "id": "c3466cb7",
   "metadata": {},
   "outputs": [],
   "source": [
    "4. Write a Python program to solve quadratic equation?\n",
    "Ans)\n",
    "import cmath\n",
    "a = 2\n",
    "b = 1\n",
    "c = 3\n",
    "d = (b**2) - (4*a*c)\n",
    "sol1 = (-b-cmath.sqrt(d))/(2*a)\n",
    "sol2 = (-b+cmath.sqrt(d))/(2*a)\n",
    "print(sol1 , sol2 )"
   ]
  },
  {
   "cell_type": "code",
   "execution_count": null,
   "id": "bd3bdfc7",
   "metadata": {},
   "outputs": [],
   "source": [
    "5. Write a Python program to swap two variables without temp variable?\n",
    "Ans)\n",
    "x = 5\n",
    "y = 7\n",
    "z = x\n",
    "x = y\n",
    "y = z\n",
    "print(\"the value after swap x = : \", x)\n",
    "print(\"the value after swap y = : \", y)"
   ]
  }
 ],
 "metadata": {
  "kernelspec": {
   "display_name": "Python 3",
   "language": "python",
   "name": "python3"
  },
  "language_info": {
   "codemirror_mode": {
    "name": "ipython",
    "version": 3
   },
   "file_extension": ".py",
   "mimetype": "text/x-python",
   "name": "python",
   "nbconvert_exporter": "python",
   "pygments_lexer": "ipython3",
   "version": "3.6.13"
  }
 },
 "nbformat": 4,
 "nbformat_minor": 5
}
